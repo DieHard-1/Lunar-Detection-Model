{
 "cells": [
  {
   "cell_type": "code",
   "execution_count": null,
   "id": "3da5fc92",
   "metadata": {},
   "outputs": [],
   "source": [
    "import torch\n",
    "\n",
    "print(\"Torch version:\", torch.__version__)\n",
    "print(\"CUDA version:\", torch.version.cuda)\n",
    "print(\"CUDA available:\", torch.cuda.is_available())\n",
    "\n",
    "if torch.cuda.is_available():\n",
    "    print(\"GPU Name:\", torch.cuda.get_device_name(0))\n",
    "else:\n",
    "    print(\"CUDA NOT AVAILABLE.\")\n"
   ]
  },
  {
   "cell_type": "code",
   "execution_count": null,
   "id": "9d601699",
   "metadata": {},
   "outputs": [],
   "source": [
    "#CODE BLOCK USED TO COPY THE DATASET FROM GOOGLE DRIVE\n",
    "\n",
    "import os\n",
    "import shutil\n",
    "from tqdm import tqdm\n",
    "\n",
    "def safe_copy_folder(src_folder, dest_folder):\n",
    "    if not os.path.exists(dest_folder):\n",
    "        os.makedirs(dest_folder)\n",
    "\n",
    "    errors = []\n",
    "    total_files = sum(len(files) for _, _, files in os.walk(src_folder))\n",
    "\n",
    "    #USED FOR TRACKING REAL TIME PROGRESS OF DATA TRANSFER\n",
    "    with tqdm(total=total_files, desc=f\"Copying from {src_folder}\") as pbar:\n",
    "        for root, dirs, files in os.walk(src_folder):\n",
    "            rel_path = os.path.relpath(root, src_folder)\n",
    "            target_dir = os.path.join(dest_folder, rel_path)\n",
    "            os.makedirs(target_dir, exist_ok=True)\n",
    "\n",
    "            for file in files:\n",
    "                src_path = os.path.join(root, file)\n",
    "                dest_path = os.path.join(target_dir, file)\n",
    "                try:\n",
    "                    if not os.path.exists(dest_path):\n",
    "                        shutil.copy2(src_path, dest_path)\n",
    "                except Exception as e:\n",
    "                    errors.append((src_path, str(e)))\n",
    "                pbar.update(1)\n",
    "\n",
    "    if errors:\n",
    "        print(f\"\\n{len(errors)} files failed to copy. Sample error:\")\n",
    "        print(errors[0])\n",
    "    else:\n",
    "        print(\"\\n All files copied successfully.\")\n",
    "train_src = r\"G:<train_folder_path>\"\n",
    "val_src = r\"G:<valid_folder_path\"\n",
    "\n",
    "train_dest = r\"Dataset\\train\"\n",
    "val_dest = r\"Dataset\\valid\"\n",
    "#  Not included in submission folder. You can find link for accessing dataset in README.\n",
    "\n",
    "safe_copy_folder(train_src, train_dest)\n",
    "safe_copy_folder(val_src, val_dest)"
   ]
  },
  {
   "cell_type": "code",
   "execution_count": null,
   "id": "9c715212",
   "metadata": {},
   "outputs": [],
   "source": [
    "#CODE BLOCK USED FOR TRAINING THE DATASET\n",
    "\n",
    "from ultralytics import YOLO\n",
    "\n",
    "model = YOLO(\"yolov8l.pt\")\n",
    "model.train(\n",
    "    data=r\"Codes\\lunar.yaml\",\n",
    "    epochs=100,\n",
    "    imgsz=640,\n",
    "    batch=4,\n",
    "    name=\"lunar_exp\"\n",
    ")"
   ]
  },
  {
   "cell_type": "code",
   "execution_count": null,
   "id": "066ced16",
   "metadata": {},
   "outputs": [],
   "source": [
    "#RESUMING TRAINING FROM LAST.PT\n",
    "\n",
    "from ultralytics import YOLO\n",
    "\n",
    "model = YOLO(r\"runs\\detect\\lunar_exp10\\weights\\last.pt\")  #Not included here\n",
    "model.train(resume=True, epochs=100)\n"
   ]
  },
  {
   "cell_type": "code",
   "execution_count": null,
   "id": "daab5bf1",
   "metadata": {},
   "outputs": [],
   "source": [
    "#DETECTING IMAGES USING MODEL\n",
    "\n",
    "from ultralytics import YOLO\n",
    "\n",
    "model = YOLO(r\"model\\best.pt\")\n",
    "results = model.predict(source= \"images\", \n",
    "                        conf = 0.3,\n",
    "                        imgsz= 1024,\n",
    "                        save_txt= True,\n",
    "                        save= True,\n",
    "                        project= \"train\",\n",
    "                        name= \"i_like\",\n",
    "                        exist_ok=True,\n",
    "                        show_labels=False\n",
    "                        )\n"
   ]
  },
  {
   "cell_type": "code",
   "execution_count": null,
   "id": "7b8a82ad",
   "metadata": {},
   "outputs": [],
   "source": [
    "#CODE TO TRANSFER AND RENAME FILES IN ASKED FORMAT\n",
    "\n",
    "import os \n",
    "import shutil\n",
    "\n",
    "source_dir = \"train/i_like\"\n",
    "label_dir = \"train/i_like/labels\"\n",
    "\n",
    "os.makedirs(\"Results/images\", exist_ok=True)\n",
    "os.makedirs(\"Results/labels\", exist_ok=True)\n",
    "\n",
    "for file in os.listdir(source_dir):\n",
    "    if file.endswith(\".jpg\") or file.endswith(\".jpeg\") or file.endswith(\".png\"):\n",
    "        shutil.move(os.path.join(source_dir, file), f\"Results/images/{file}\")\n",
    "\n",
    "for file in os.listdir(label_dir):\n",
    "    if file.endswith(\".txt\"):\n",
    "        b = os.path.splitext(file)[0]\n",
    "        new_name = f\"{b}_labels.txt\"\n",
    "        shutil.move(os.path.join(label_dir, file), f\"Results/labels/{new_name}\")"
   ]
  }
 ],
 "metadata": {
  "kernelspec": {
   "display_name": "virtual",
   "language": "python",
   "name": "python3"
  },
  "language_info": {
   "codemirror_mode": {
    "name": "ipython",
    "version": 3
   },
   "file_extension": ".py",
   "mimetype": "text/x-python",
   "name": "python",
   "nbconvert_exporter": "python",
   "pygments_lexer": "ipython3",
   "version": "3.10.0"
  }
 },
 "nbformat": 4,
 "nbformat_minor": 5
}
